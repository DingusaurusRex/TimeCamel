{
 "cells": [
  {
   "cell_type": "code",
   "execution_count": 75,
   "metadata": {
    "collapsed": false
   },
   "outputs": [],
   "source": [
    "import camel_utilities as u\n",
    "import pandas as pd \n",
    "import numpy as nm\n",
    "import matplotlib.pyplot as plt"
   ]
  },
  {
   "cell_type": "code",
   "execution_count": 57,
   "metadata": {
    "collapsed": false,
    "scrolled": true
   },
   "outputs": [],
   "source": [
    "g=u.startGame()"
   ]
  },
  {
   "cell_type": "code",
   "execution_count": 58,
   "metadata": {
    "collapsed": false
   },
   "outputs": [
    {
     "data": {
      "text/plain": [
       "[0, 2]"
      ]
     },
     "execution_count": 58,
     "metadata": {},
     "output_type": "execute_result"
    }
   ],
   "source": [
    "u.findCamel(4,g.camel_track)"
   ]
  },
  {
   "cell_type": "code",
   "execution_count": 59,
   "metadata": {
    "collapsed": false
   },
   "outputs": [
    {
     "data": {
      "text/plain": [
       "[[1, 0, 4],\n",
       " [2],\n",
       " [3],\n",
       " [],\n",
       " [],\n",
       " [],\n",
       " [],\n",
       " [],\n",
       " [],\n",
       " [],\n",
       " [],\n",
       " [],\n",
       " [],\n",
       " [],\n",
       " [],\n",
       " [],\n",
       " [],\n",
       " [],\n",
       " [],\n",
       " [],\n",
       " [],\n",
       " [],\n",
       " [],\n",
       " [],\n",
       " [],\n",
       " [],\n",
       " [],\n",
       " [],\n",
       " []]"
      ]
     },
     "execution_count": 59,
     "metadata": {},
     "output_type": "execute_result"
    }
   ],
   "source": [
    "g.camel_track"
   ]
  },
  {
   "cell_type": "code",
   "execution_count": null,
   "metadata": {
    "collapsed": false
   },
   "outputs": [],
   "source": [
    "print(u.findCamel(4,g.camel_track))\n",
    "g_move = u.moveOneCamel(camel=4,gameState=g,movement=2)\n",
    "print(u.findCamel(4,g_move.camel_track))\n",
    "print(u.findCamel(1,g_move.camel_track))\n",
    "print(u.findCamel(3,g_move.camel_track))"
   ]
  },
  {
   "cell_type": "code",
   "execution_count": 90,
   "metadata": {
    "collapsed": false
   },
   "outputs": [],
   "source": [
    "n=100000\n",
    "result=nm.zeros((n,5))\n",
    "result_probabilities=nm.zeros((16*5,5))\n",
    "for i in range(0,n):\n",
    "    g_new=u.moveAllCamels(g)\n",
    "    for c in range(0,5):\n",
    "        location=u.findCamel(c,g_new.camel_track)\n",
    "        result[i,c]=location[0]+(location[1]/5)\n",
    "        result_probabilities[location[0]+location[1],c]+=1\n",
    "result_probabilities=result_probabilities/n"
   ]
  },
  {
   "cell_type": "code",
   "execution_count": 91,
   "metadata": {
    "collapsed": false
   },
   "outputs": [
    {
     "name": "stdout",
     "output_type": "stream",
     "text": [
      "(80, 5)\n"
     ]
    },
    {
     "data": {
      "text/plain": [
       "<matplotlib.collections.PathCollection at 0x1c909a5bac8>"
      ]
     },
     "execution_count": 91,
     "metadata": {},
     "output_type": "execute_result"
    },
    {
     "data": {
      "image/png": "[encoded data removed]",
      "text/plain": [
       "<matplotlib.figure.Figure at 0x1c909940780>"
      ]
     },
     "metadata": {},
     "output_type": "display_data"
    }
   ],
   "source": [
    "%matplotlib inline\n",
    "print(result_probabilities.shape)\n",
    "plt.scatter(x=range(0,15),y=(result_probabilities)[:15,0],color=\"blue\")\n",
    "plt.scatter(x=range(0,15),y=(result_probabilities)[:15,1],color=\"green\")\n",
    "plt.scatter(x=range(0,15),y=(result_probabilities)[:15,2],color=\"red\")\n",
    "plt.scatter(x=range(0,15),y=(result_probabilities)[:15,3],color=\"black\")\n",
    "plt.scatter(x=range(0,15),y=(result_probabilities)[:15,4],color=\"yellow\")"
   ]
  },
  {
   "cell_type": "code",
   "execution_count": null,
   "metadata": {
    "collapsed": false
   },
   "outputs": [],
   "source": [
    "tests=10000\n",
    "test_game=nm.zeros((tests,5))\n",
    "for t in range(0,tests):\n",
    "    n=1000\n",
    "    result=list()\n",
    "    for i in range(0,n):\n",
    "        g_new=u.moveAllCamels(g)\n",
    "        space=0\n",
    "        winner=-1\n",
    "        for c in range(0,5):\n",
    "            find=u.findCamel(c,g_new.camel_track)\n",
    "            location=find[0]+(find[1]/5)\n",
    "            if location >= space:\n",
    "                space=location\n",
    "                winner=c\n",
    "        result.append(winner)\n",
    "    result_probs=(pd.Series(result).value_counts()/n)\n",
    "    for i in range(0,5):\n",
    "        if i in result_probs.index.values:\n",
    "            test_game[t,i]=result_probs[i]"
   ]
  },
  {
   "cell_type": "code",
   "execution_count": 154,
   "metadata": {
    "collapsed": false
   },
   "outputs": [
    {
     "data": {
      "text/plain": [
       "[2, 4, 4, 3, 4, 4, 1, 3, 1, 0]"
      ]
     },
     "execution_count": 154,
     "metadata": {},
     "output_type": "execute_result"
    }
   ],
   "source": [
    "test_game"
   ]
  }
 ],
 "metadata": {
  "kernelspec": {
   "display_name": "Python [conda root]",
   "language": "python",
   "name": "conda-root-py"
  },
  "language_info": {
   "codemirror_mode": {
    "name": "ipython",
    "version": 3
   },
   "file_extension": ".py",
   "mimetype": "text/x-python",
   "name": "python",
   "nbconvert_exporter": "python",
   "pygments_lexer": "ipython3",
   "version": "3.5.2"
  }
 },
 "nbformat": 4,
 "nbformat_minor": 2
}
