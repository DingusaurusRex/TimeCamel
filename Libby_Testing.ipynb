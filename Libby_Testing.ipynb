{
 "cells": [
  {
   "cell_type": "code",
   "execution_count": 1,
   "metadata": {
    "collapsed": false
   },
   "outputs": [],
   "source": [
    "import camel_utilities as u\n",
    "import pandas as pd \n",
    "import numpy as nm\n",
    "import random as rand\n",
    "import copy "
   ]
  },
  {
   "cell_type": "code",
   "execution_count": null,
   "metadata": {
    "collapsed": false,
    "scrolled": true
   },
   "outputs": [],
   "source": [
    "g=u.startGame()"
   ]
  },
  {
   "cell_type": "code",
   "execution_count": null,
   "metadata": {
    "collapsed": false
   },
   "outputs": [],
   "source": [
    "u.findCamel(4,g.camel_track)"
   ]
  },
  {
   "cell_type": "code",
   "execution_count": null,
   "metadata": {
    "collapsed": false
   },
   "outputs": [],
   "source": [
    "g.camel_track"
   ]
  },
  {
   "cell_type": "code",
   "execution_count": null,
   "metadata": {
    "collapsed": false
   },
   "outputs": [],
   "source": [
    "u.getLeadCamel(g.camel_track)"
   ]
  },
  {
   "cell_type": "code",
   "execution_count": 2,
   "metadata": {
    "collapsed": false
   },
   "outputs": [
    {
     "data": {
      "text/plain": [
       "[0, 0.299]"
      ]
     },
     "execution_count": 2,
     "metadata": {},
     "output_type": "execute_result"
    }
   ],
   "source": [
    "g=u.startGame()\n",
    "u.randRoundWinnerPercentage(g,1000)"
   ]
  },
  {
   "cell_type": "code",
   "execution_count": 3,
   "metadata": {
    "collapsed": false
   },
   "outputs": [
    {
     "data": {
      "text/plain": [
       "[3, 0.25]"
      ]
     },
     "execution_count": 3,
     "metadata": {},
     "output_type": "execute_result"
    }
   ],
   "source": [
    "g=u.startGame()\n",
    "u.randRoundWinnerPercentageTraps(game_state=g,num_iterations=100,probability_trap=0.75)"
   ]
  },
  {
   "cell_type": "code",
   "execution_count": null,
   "metadata": {
    "collapsed": false
   },
   "outputs": [],
   "source": [
    "%matplotlib inline\n",
    "result=list()\n",
    "for i in range(0,1000):\n",
    "    g1=u.startGame()\n",
    "    g1.camel_yet_to_move=[True,True,True,True,True]\n",
    "    result.append(u.randRoundWinnerPercentageTraps(g1,1000,0.75)[1])\n",
    "pd.Series(result).plot(kind=\"hist\")"
   ]
  },
  {
   "cell_type": "code",
   "execution_count": null,
   "metadata": {
    "collapsed": false
   },
   "outputs": [],
   "source": [
    "%matplotlib inline\n",
    "result=list()\n",
    "for i in range(0,1000):\n",
    "    g1=u.startGame()\n",
    "    g2=u.moveAllCamels(g1)\n",
    "    g2.camel_yet_to_move=[True,True,True,True,True]\n",
    "    result.append(u.randRoundWinnerPercentageTraps(g2,1000,0.75)[1])\n",
    "pd.Series(result).plot(kind=\"hist\")"
   ]
  },
  {
   "cell_type": "code",
   "execution_count": null,
   "metadata": {
    "collapsed": false
   },
   "outputs": [],
   "source": [
    "%matplotlib inline\n",
    "result=list()\n",
    "for i in range(0,1000):\n",
    "    g1=u.startGame()\n",
    "    g2=u.moveAllCamels(g1)\n",
    "    g2.camel_yet_to_move=[True,True,True,True,True]\n",
    "    g3=u.moveAllCamels(g2)\n",
    "    g3.camel_yet_to_move=[True,True,True,True,True]\n",
    "    result.append(u.randRoundWinnerPercentageTraps(g3,1000,0.75)[1])\n",
    "pd.Series(result).plot(kind=\"hist\")"
   ]
  },
  {
   "cell_type": "code",
   "execution_count": null,
   "metadata": {
    "collapsed": false
   },
   "outputs": [],
   "source": [
    "game_state=u.startGame()\n",
    "num_iterations=2\n",
    "probability_trap=0.75\n",
    "for i in range(0,num_iterations):\n",
    "    # store a copy of the initial game state \n",
    "    new_game_state=copy.deepcopy(game_state)\n",
    "    for c in new_game_state.camel_yet_to_move:\n",
    "        # add a 50% chance that the traps will be set \n",
    "        if rand.random() < 0.75:\n",
    "            # randomly select the type and location \n",
    "            trap_type=rand.sample(k=1,population=[-1,1])[0]\n",
    "            trap_loc=rand.sample(k=1,population=range(0,15))[0]\n",
    "            # save the new game state \n",
    "            tmp_game_state=u.placeTrap(new_game_state,trap_type,trap_loc)\n",
    "            if tmp_game_state is None:\n",
    "                new_game_state=new_game_state\n",
    "            else:\n",
    "                new_game_state=tmp_game_state\n",
    "        # move the camel \n",
    "        camel = u.chooseCamelToMove(new_game_state)\n",
    "        movement = u.rollDie()\n",
    "        new_game_state=u.moveOneCamel(new_game_state,camel,movement)"
   ]
  },
  {
   "cell_type": "code",
   "execution_count": null,
   "metadata": {
    "collapsed": false
   },
   "outputs": [],
   "source": []
  }
 ],
 "metadata": {
  "kernelspec": {
   "display_name": "Python [conda root]",
   "language": "python",
   "name": "conda-root-py"
  },
  "language_info": {
   "codemirror_mode": {
    "name": "ipython",
    "version": 3
   },
   "file_extension": ".py",
   "mimetype": "text/x-python",
   "name": "python",
   "nbconvert_exporter": "python",
   "pygments_lexer": "ipython3",
   "version": "3.5.2"
  }
 },
 "nbformat": 4,
 "nbformat_minor": 2
}
