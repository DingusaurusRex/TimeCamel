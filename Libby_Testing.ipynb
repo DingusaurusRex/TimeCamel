{
 "cells": [
  {
   "cell_type": "code",
   "execution_count": 1,
   "metadata": {
    "collapsed": true
   },
   "outputs": [],
   "source": [
    "import camel_utilities as u\n",
    "import pandas as pd \n",
    "import numpy as nm\n",
    "import random as rand\n",
    "import copy"
   ]
  },
  {
   "cell_type": "code",
   "execution_count": 2,
   "metadata": {
    "collapsed": false
   },
   "outputs": [
    {
     "name": "stdout",
     "output_type": "stream",
     "text": [
      "[[3, 0], [4], [1, 2], [], [], [], [], [], [], [], [], [], [], [], [], [], [], [], [], [], [], [], [], [], [], [], [], [], []]\n",
      "[[], [], [], [], [], [], [], [], [], [], [], [], [], [], [], [], [], [], [], [], [], [], [], [], [], [], [], [], []]\n"
     ]
    }
   ],
   "source": [
    "g=u.startGame()\n",
    "print(g.camel_track)\n",
    "print(g.trap_track)"
   ]
  },
  {
   "cell_type": "code",
   "execution_count": 3,
   "metadata": {
    "collapsed": false
   },
   "outputs": [
    {
     "name": "stdout",
     "output_type": "stream",
     "text": [
      "[2, 0.36]\n"
     ]
    }
   ],
   "source": [
    "print(u.randRoundWinnerPercentageTraps(g,100,0.75))"
   ]
  },
  {
   "cell_type": "code",
   "execution_count": 6,
   "metadata": {
    "collapsed": false
   },
   "outputs": [
    {
     "data": {
      "text/plain": [
       "[1, 0.23]"
      ]
     },
     "execution_count": 6,
     "metadata": {},
     "output_type": "execute_result"
    }
   ],
   "source": [
    "u.randGameWinner(g,100,0.75)"
   ]
  },
  {
   "cell_type": "code",
   "execution_count": null,
   "metadata": {
    "collapsed": false
   },
   "outputs": [],
   "source": [
    "g=u.startGame()\n",
    "print(g.camel_track)\n",
    "print(\"start of game\")\n",
    "for i in range(0,10):\n",
    "    g=u.moveAllCamelsTraps(g,0.75)\n",
    "    g.camel_yet_to_move=[True,True,True,True,True]\n",
    "    print(g.camel_track)\n",
    "print(\"end of game\")\n",
    "print(g.camel_track)"
   ]
  },
  {
   "cell_type": "code",
   "execution_count": null,
   "metadata": {
    "collapsed": false
   },
   "outputs": [],
   "source": [
    "game_state=u.startGame()\n",
    "probability_traps=0.75\n",
    "new_game_state=copy.deepcopy(game_state)\n",
    "rounds=0\n",
    "while new_game_state.active_game:\n",
    "    if probability_traps > 0:\n",
    "        new_game_state=u.moveAllCamelsTraps(new_game_state,probability_traps)\n",
    "        new_game_state.camel_yet_to_move=[True,True,True,True,True]\n",
    "    else:\n",
    "        new_game_state=u.moveAllCamels(new_game_state)\n",
    "        new_game_state.camel_yet_to_move=[True,True,True,True,True]\n",
    "    rounds+=1 \n",
    "u.getLeadCamel(new_game_state.camel_track)\n",
    "print(new_game_state.camel_track)"
   ]
  },
  {
   "cell_type": "code",
   "execution_count": null,
   "metadata": {
    "collapsed": false
   },
   "outputs": [],
   "source": [
    "u.findCamel(3,new_game_state.camel_track)"
   ]
  }
 ],
 "metadata": {
  "kernelspec": {
   "display_name": "Python [conda root]",
   "language": "python",
   "name": "conda-root-py"
  },
  "language_info": {
   "codemirror_mode": {
    "name": "ipython",
    "version": 3
   },
   "file_extension": ".py",
   "mimetype": "text/x-python",
   "name": "python",
   "nbconvert_exporter": "python",
   "pygments_lexer": "ipython3",
   "version": "3.5.2"
  }
 },
 "nbformat": 4,
 "nbformat_minor": 2
}
